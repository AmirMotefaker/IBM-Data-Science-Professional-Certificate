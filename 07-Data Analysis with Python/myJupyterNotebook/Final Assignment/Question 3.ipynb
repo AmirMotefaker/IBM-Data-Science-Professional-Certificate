{
 "cells": [
  {
   "cell_type": "code",
   "execution_count": null,
   "metadata": {
    "vscode": {
     "languageId": "plaintext"
    }
   },
   "outputs": [],
   "source": [
    "df['floors'].value_counts().to_frame()"
   ]
  }
 ],
 "metadata": {
  "language_info": {
   "name": "python"
  },
  "orig_nbformat": 4
 },
 "nbformat": 4,
 "nbformat_minor": 2
}
